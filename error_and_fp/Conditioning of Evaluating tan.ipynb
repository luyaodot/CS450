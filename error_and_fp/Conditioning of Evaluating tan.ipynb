{
  "cells": [
    {
      "cell_type": "markdown",
      "metadata": {
        "id": "DjjmJYJsd-po"
      },
      "source": [
        "# Conditioning of evaluating tan()"
      ]
    },
    {
      "cell_type": "markdown",
      "source": [],
      "metadata": {
        "id": "moK9FKFleI5l"
      }
    },
    {
      "cell_type": "code",
      "execution_count": 5,
      "metadata": {
        "id": "PSNxCPWmd-pp"
      },
      "outputs": [],
      "source": [
        "import numpy as np\n",
        "import matplotlib.pyplot as pt\n",
        "import scipy as sp"
      ]
    },
    {
      "cell_type": "markdown",
      "metadata": {
        "id": "J0eRXHVbd-pp"
      },
      "source": [
        "Let us estimate the sensitivity of evaluating the $\\tan$ function:"
      ]
    },
    {
      "cell_type": "code",
      "execution_count": 4,
      "metadata": {
        "id": "NFfh6o6qd-pq",
        "outputId": "0f2a1bc8-7f40-499e-b2ef-1bcd5cf138b5",
        "colab": {
          "base_uri": "https://localhost:8080/",
          "height": 471
        }
      },
      "outputs": [
        {
          "output_type": "stream",
          "name": "stdout",
          "text": [
            "The slowest run took 4.41 times longer than the fastest. This could mean that an intermediate result is being cached.\n",
            "9.73 ms ± 4.5 ms per loop (mean ± std. dev. of 7 runs, 1000 loops each)\n"
          ]
        },
        {
          "output_type": "display_data",
          "data": {
            "text/plain": [
              "<Figure size 640x480 with 1 Axes>"
            ],
            "image/png": "[encoded data removed]"
          },
          "metadata": {}
        }
      ],
      "source": [
        "%%timeit\n",
        "x = np.linspace(-5, 5, 1000)\n",
        "pt.ylim([-10, 10])\n",
        "pt.plot(x, np.tan(x))"
      ]
    },
    {
      "cell_type": "code",
      "execution_count": 6,
      "metadata": {
        "id": "KJpbXKfdd-pq",
        "outputId": "19b7d955-0fa6-4694-8129-7405eb863310",
        "colab": {
          "base_uri": "https://localhost:8080/"
        }
      },
      "outputs": [
        {
          "output_type": "execute_result",
          "data": {
            "text/plain": [
              "1.5706963267948966"
            ]
          },
          "metadata": {},
          "execution_count": 6
        }
      ],
      "source": [
        "x = np.pi/2 - 0.0001\n",
        "#x = 0.1\n",
        "x"
      ]
    },
    {
      "cell_type": "code",
      "execution_count": 7,
      "metadata": {
        "id": "WDEwO7vad-pq",
        "outputId": "b8a5cd10-78f7-4723-defa-8da120f3a3f0",
        "colab": {
          "base_uri": "https://localhost:8080/"
        }
      },
      "outputs": [
        {
          "output_type": "execute_result",
          "data": {
            "text/plain": [
              "np.float64(9999.999966661644)"
            ]
          },
          "metadata": {},
          "execution_count": 7
        }
      ],
      "source": [
        "np.tan(x)"
      ]
    },
    {
      "cell_type": "code",
      "execution_count": 8,
      "metadata": {
        "id": "8Th5PccPd-pq",
        "outputId": "7d996fc5-ad6d-4ac4-dbe6-486b8bc4785e",
        "colab": {
          "base_uri": "https://localhost:8080/"
        }
      },
      "outputs": [
        {
          "output_type": "execute_result",
          "data": {
            "text/plain": [
              "np.float64(19999.99998335545)"
            ]
          },
          "metadata": {},
          "execution_count": 8
        }
      ],
      "source": [
        "\n",
        "dx = 0.00005\n",
        "np.tan(x+dx)"
      ]
    },
    {
      "cell_type": "markdown",
      "metadata": {
        "id": "H1LDMWKYd-pq"
      },
      "source": [
        "## Condition number estimates"
      ]
    },
    {
      "cell_type": "markdown",
      "metadata": {
        "id": "CuF-FRWRd-pr"
      },
      "source": [
        "### From evaluation data\n"
      ]
    },
    {
      "cell_type": "code",
      "execution_count": 11,
      "metadata": {
        "id": "8OqownnQd-pr",
        "outputId": "68e6881f-37d3-459e-d195-c4adea37183d",
        "colab": {
          "base_uri": "https://localhost:8080/"
        }
      },
      "outputs": [
        {
          "output_type": "execute_result",
          "data": {
            "text/plain": [
              "np.float64(31413.926693068603)"
            ]
          },
          "metadata": {},
          "execution_count": 11
        }
      ],
      "source": [
        "#clear\n",
        "\n",
        "np.abs(np.tan(x+dx) - np.tan(x))/np.abs(np.tan(x)) / (np.abs(dx) / np.abs(x))"
      ]
    },
    {
      "cell_type": "markdown",
      "metadata": {
        "id": "5gAL9IUbd-pr"
      },
      "source": [
        "### Using the derivative estimate"
      ]
    },
    {
      "cell_type": "code",
      "execution_count": 12,
      "metadata": {
        "id": "krDfmCmwd-pr",
        "outputId": "eca91c4f-9c64-4f7c-ed1c-8962f1531972",
        "colab": {
          "base_uri": "https://localhost:8080/",
          "height": 39
        }
      },
      "outputs": [
        {
          "output_type": "execute_result",
          "data": {
            "text/plain": [
              "tan(x)**2 + 1"
            ],
            "text/latex": "$\\displaystyle \\tan^{2}{\\left(x \\right)} + 1$"
          },
          "metadata": {},
          "execution_count": 12
        }
      ],
      "source": [
        "import sympy as sp\n",
        "\n",
        "xsym = sp.Symbol(\"x\")\n",
        "\n",
        "f = sp.tan(xsym)\n",
        "df = f.diff(xsym)\n",
        "df"
      ]
    },
    {
      "cell_type": "markdown",
      "metadata": {
        "id": "lqooaf2id-pr"
      },
      "source": [
        "Evaluate the derivative estimate. Use `.subs(xsym, x)` to substitute in the value of `x`."
      ]
    },
    {
      "cell_type": "code",
      "execution_count": 13,
      "metadata": {
        "id": "3KAurRxDd-pr",
        "outputId": "65d60503-2fd2-42fd-cf34-bc2c60962bf6",
        "colab": {
          "base_uri": "https://localhost:8080/",
          "height": 37
        }
      },
      "outputs": [
        {
          "output_type": "execute_result",
          "data": {
            "text/plain": [
              "15706.9633726542"
            ],
            "text/latex": "$\\displaystyle 15706.9633726542$"
          },
          "metadata": {},
          "execution_count": 13
        }
      ],
      "source": [
        "#clear\n",
        "(xsym*df/f).subs(xsym, x)"
      ]
    },
    {
      "cell_type": "code",
      "execution_count": null,
      "metadata": {
        "id": "i81HRP1Zd-pr"
      },
      "outputs": [],
      "source": []
    }
  ],
  "metadata": {
    "kernelspec": {
      "display_name": "Python 3 (ipykernel)",
      "language": "python",
      "name": "python3"
    },
    "language_info": {
      "codemirror_mode": {
        "name": "ipython",
        "version": 3
      },
      "file_extension": ".py",
      "mimetype": "text/x-python",
      "name": "python",
      "nbconvert_exporter": "python",
      "pygments_lexer": "ipython3",
      "version": "3.12.11"
    },
    "colab": {
      "provenance": []
    }
  },
  "nbformat": 4,
  "nbformat_minor": 0
}